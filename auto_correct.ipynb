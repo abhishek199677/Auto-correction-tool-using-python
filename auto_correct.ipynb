{
 "cells": [
  {
   "cell_type": "code",
   "execution_count": null,
   "id": "caa81f68",
   "metadata": {},
   "outputs": [],
   "source": [
    "# pip install autocorrect"
   ]
  },
  {
   "cell_type": "code",
   "execution_count": 9,
   "id": "84d81561",
   "metadata": {},
   "outputs": [],
   "source": [
    "#importing The Libraries\n",
    "from autocorrect import Speller"
   ]
  },
  {
   "cell_type": "code",
   "execution_count": 10,
   "id": "4a035a33",
   "metadata": {},
   "outputs": [],
   "source": [
    "# Create an instance/object of the\n",
    "spell = Speller (lang='en')"
   ]
  },
  {
   "cell_type": "code",
   "execution_count": 11,
   "id": "43a49761",
   "metadata": {},
   "outputs": [],
   "source": [
    "# Take input from the user\n",
    "word = input (\"Enter any word:\")"
   ]
  },
  {
   "cell_type": "code",
   "execution_count": 12,
   "id": "1e919edb",
   "metadata": {},
   "outputs": [],
   "source": [
    "# Perform auto-correction\n",
    "corrected = spell(word)"
   ]
  },
  {
   "cell_type": "code",
   "execution_count": 13,
   "id": "e0e92037",
   "metadata": {},
   "outputs": [
    {
     "ename": "NameError",
     "evalue": "name 'words' is not defined",
     "output_type": "error",
     "traceback": [
      "\u001b[0;31m---------------------------------------------------------------------------\u001b[0m",
      "\u001b[0;31mNameError\u001b[0m                                 Traceback (most recent call last)",
      "Cell \u001b[0;32mIn[13], line 2\u001b[0m\n\u001b[1;32m      1\u001b[0m \u001b[38;5;66;03m# Check if the input word is alread\u001b[39;00m\n\u001b[0;32m----> 2\u001b[0m \u001b[38;5;28;01mif\u001b[39;00m corrected \u001b[38;5;241m==\u001b[39m \u001b[43mwords\u001b[49m:\n\u001b[1;32m      3\u001b[0m   \u001b[38;5;28mprint\u001b[39m(\u001b[38;5;124m\"\u001b[39m\u001b[38;5;124mThe word\u001b[39m\u001b[38;5;124m\"\u001b[39m,word,\u001b[38;5;124m\"\u001b[39m\u001b[38;5;124mis spelled correctly.\u001b[39m\u001b[38;5;124m\"\u001b[39m)\n\u001b[1;32m      4\u001b[0m \u001b[38;5;28;01melse\u001b[39;00m:\n",
      "\u001b[0;31mNameError\u001b[0m: name 'words' is not defined"
     ]
    }
   ],
   "source": [
    "# Check if the input word is alread\n",
    "if corrected == word:\n",
    "  print(\"The word\",word,\"is spelled correctly.\")\n",
    "else:\n",
    "  print(f\"did you mean to tell :- \",corrected)  "
   ]
  },
  {
   "cell_type": "code",
   "execution_count": null,
   "id": "c8012327",
   "metadata": {},
   "outputs": [],
   "source": []
  },
  {
   "cell_type": "code",
   "execution_count": null,
   "id": "254d79a8",
   "metadata": {},
   "outputs": [],
   "source": []
  },
  {
   "cell_type": "code",
   "execution_count": null,
   "id": "67446042",
   "metadata": {},
   "outputs": [],
   "source": []
  }
 ],
 "metadata": {
  "kernelspec": {
   "display_name": "Python 3 (ipykernel)",
   "language": "python",
   "name": "python3"
  },
  "language_info": {
   "codemirror_mode": {
    "name": "ipython",
    "version": 3
   },
   "file_extension": ".py",
   "mimetype": "text/x-python",
   "name": "python",
   "nbconvert_exporter": "python",
   "pygments_lexer": "ipython3",
   "version": "3.10.15"
  }
 },
 "nbformat": 4,
 "nbformat_minor": 5
}
